{
 "cells": [
  {
   "cell_type": "markdown",
   "metadata": {},
   "source": [
    "# Python Insights - Analyzing Data with Python\n",
    "## Case - Reasons for Cancellations Analysis\n",
    "\n",
    "Libraries:\n",
    "Pandas"
   ]
  },
  {
   "cell_type": "markdown",
   "metadata": {},
   "source": [
    "# Step 0 - Understand the challenge and the company\n",
    "\n",
    "You've been hired by a company with over 800,000 customers for a Data project. Recently, the company realized that of its total customer base, most are inactive customers, that is, customers who have already canceled the service.\n",
    "\n",
    "Needing to improve her results, she wants to be able to understand the main reasons for these cancellations and what are the most efficient actions to reduce this number."
   ]
  },
  {
   "cell_type": "code",
   "execution_count": 56,
   "metadata": {},
   "outputs": [],
   "source": [
    "# Step 1 - Importing the data base\n",
    "import pandas\n",
    "tabela = pandas.read_csv(\"cancelamentos.csv\")"
   ]
  },
  {
   "cell_type": "code",
   "execution_count": null,
   "metadata": {},
   "outputs": [],
   "source": [
    "# Step 2 - Visualization of the data base\n",
    "display(tabela)"
   ]
  },
  {
   "cell_type": "code",
   "execution_count": null,
   "metadata": {},
   "outputs": [],
   "source": [
    "# Step 3 - Data Cleaning | error handling\n",
    "# 3.1. - Null Values\n",
    "tabela = tabela.dropna()\n",
    "# 3.2. - Unnecessary columns\n",
    "tabela = tabela.drop(\"CustomerID\",axis=1)\n",
    "#\n",
    "display(tabela.info())"
   ]
  },
  {
   "cell_type": "code",
   "execution_count": null,
   "metadata": {},
   "outputs": [],
   "source": [
    "# Step 4 - Explore Data\n",
    "display(tabela[\"cancelou\"].value_counts(normalize=True).map(\"{:.1%}\".format))\n",
    "display(tabela[\"duracao_contrato\"].value_counts(normalize=True).map(\"{:.1%}\".format))\n",
    "display(tabela.groupby(\"duracao_contrato\").count())\n",
    "# display(tabela.groupby(\"duracao_contrato\").mean())\n",
    "# display(tabela.groupby(\"assinatura\").mean())\n",
    "# for column in tabela.columns:\n",
    "#   graphic = px.histogram(tabela, x=column,color=\"cancelou\")\n",
    "#   graphic.show()\n"
   ]
  },
  {
   "cell_type": "code",
   "execution_count": null,
   "metadata": {},
   "outputs": [],
   "source": [
    "# Step 4.1. - Report insights | Main reasons for cancellations\n",
    "import plotly.express as px\n",
    "\n",
    "# a. 100% of monthly contract customers cancelled the subscription\n",
    "graphic = px.histogram(tabela, x=\"duracao_contrato\",color=\"cancelou\")\n",
    "graphic.show()\n",
    "\n",
    "# b. 100% of the customers with 50+ cancelled the subscription\n",
    "graphic = px.histogram(tabela, x=\"idade\",color=\"cancelou\")\n",
    "graphic.show()\n",
    "\n",
    "# c. 100% of the customers that called more than 5x, cancelled the subscription\n",
    "graphic = px.histogram(tabela, x=\"ligacoes_callcenter\",color=\"cancelou\")\n",
    "graphic.show()\n",
    "\n",
    "# d. 100% of the customers who are overdue for more than 20 days cancelled their subscription\n",
    "graphic = px.histogram(tabela, x=\"dias_atraso\",color=\"cancelou\")\n",
    "graphic.show()"
   ]
  },
  {
   "cell_type": "code",
   "execution_count": 57,
   "metadata": {},
   "outputs": [
    {
     "data": {
      "text/plain": [
       "cancelou\n",
       "1.0    56.7%\n",
       "0.0    43.3%\n",
       "Name: proportion, dtype: object"
      ]
     },
     "metadata": {},
     "output_type": "display_data"
    },
    {
     "data": {
      "text/plain": [
       "cancelou\n",
       "0.0    53.9%\n",
       "1.0    46.1%\n",
       "Name: proportion, dtype: object"
      ]
     },
     "metadata": {},
     "output_type": "display_data"
    },
    {
     "data": {
      "text/plain": [
       "cancelou\n",
       "0.0    63.3%\n",
       "1.0    36.7%\n",
       "Name: proportion, dtype: object"
      ]
     },
     "metadata": {},
     "output_type": "display_data"
    },
    {
     "data": {
      "text/plain": [
       "cancelou\n",
       "0.0    81.2%\n",
       "1.0    18.8%\n",
       "Name: proportion, dtype: object"
      ]
     },
     "metadata": {},
     "output_type": "display_data"
    },
    {
     "data": {
      "text/plain": [
       "cancelou\n",
       "0.0    87.8%\n",
       "1.0    12.2%\n",
       "Name: proportion, dtype: object"
      ]
     },
     "metadata": {},
     "output_type": "display_data"
    }
   ],
   "source": [
    "# Step 5 - Proposed solutions\n",
    "display(tabela[\"cancelou\"].value_counts(normalize=True).map(\"{:.1%}\".format))\n",
    "\n",
    "# a. Exclude Monthly Payment Method or Offer Discounts\n",
    "tabela = tabela[tabela[\"duracao_contrato\"]!=\"Monthly\"]\n",
    "display(tabela[\"cancelou\"].value_counts(normalize=True).map(\"{:.1%}\".format))\n",
    "\n",
    "# b. Targeted Engagement for Customers Over 50 Years\n",
    "tabela = tabela[tabela[\"idade\"]<50]\n",
    "display(tabela[\"cancelou\"].value_counts(normalize=True).map(\"{:.1%}\".format))\n",
    "\n",
    "# c. Enhance Call Center Support\n",
    "tabela = tabela[tabela[\"ligacoes_callcenter\"]<5]\n",
    "display(tabela[\"cancelou\"].value_counts(normalize=True).map(\"{:.1%}\".format))\n",
    "\n",
    "# d. Proactive Payment Monitoring\n",
    "tabela = tabela[tabela[\"dias_atraso\"]<=20]\n",
    "display(tabela[\"cancelou\"].value_counts(normalize=True).map(\"{:.1%}\".format))\n"
   ]
  },
  {
   "cell_type": "markdown",
   "metadata": {},
   "source": [
    "By implementing targeted solutions, including excluding the monthly payment method or offering discounts, implementing targeted engagement for customers over 50 years, enhancing call center support, and proactive payment monitoring, our company can reduce the cancellation rate from 56% to an impressive 12%"
   ]
  }
 ],
 "metadata": {
  "kernelspec": {
   "display_name": "base",
   "language": "python",
   "name": "python3"
  },
  "language_info": {
   "codemirror_mode": {
    "name": "ipython",
    "version": 3
   },
   "file_extension": ".py",
   "mimetype": "text/x-python",
   "name": "python",
   "nbconvert_exporter": "python",
   "pygments_lexer": "ipython3",
   "version": "3.9.6"
  },
  "orig_nbformat": 4
 },
 "nbformat": 4,
 "nbformat_minor": 2
}
