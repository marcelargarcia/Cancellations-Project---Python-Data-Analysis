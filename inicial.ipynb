{
 "cells": [
  {
   "cell_type": "markdown",
   "metadata": {},
   "source": [
    "# Python Insights - Analisando Dados com Python\n",
    "\n",
    "### Case - Cancelamento de Clientes\n",
    "\n",
    "Você foi contratado por uma empresa com mais de 800 mil clientes para um projeto de Dados. Recentemente a empresa percebeu que da sua base total de clientes, a maioria são clientes inativos, ou seja, que já cancelaram o serviço.\n",
    "\n",
    "Precisando melhorar seus resultados ela quer conseguir entender os principais motivos desses cancelamentos e quais as ações mais eficientes para reduzir esse número.\n",
    "\n",
    "Base de dados e arquivos: https://drive.google.com/drive/folders/1uDesZePdkhiraJmiyeZ-w5tfc8XsNYFZ?usp=drive_link"
   ]
  },
  {
   "cell_type": "code",
   "execution_count": 56,
   "metadata": {},
   "outputs": [],
   "source": [
    "# Step 1 - Importing the data base\n",
    "import pandas\n",
    "tabela = pandas.read_csv(\"cancelamentos.csv\")"
   ]
  },
  {
   "cell_type": "code",
   "execution_count": null,
   "metadata": {},
   "outputs": [],
   "source": [
    "# Step 2- Visualization of the data base\n",
    "display(tabela)"
   ]
  },
  {
   "cell_type": "code",
   "execution_count": null,
   "metadata": {},
   "outputs": [],
   "source": [
    "# Step 3- Data Cleaning - error handling\n",
    "# 3.1. - Null Values\n",
    "tabela = tabela.dropna()\n",
    "# 3.2. - Unnecessary columns\n",
    "tabela = tabela.drop(\"CustomerID\",axis=1)\n",
    "#\n",
    "display(tabela.info())"
   ]
  },
  {
   "cell_type": "code",
   "execution_count": null,
   "metadata": {},
   "outputs": [],
   "source": [
    "# Step 4 - Starting the data analysis\n",
    "display(tabela[\"cancelou\"].value_counts(normalize=True).map(\"{:.1%}\".format))\n",
    "display(tabela[\"duracao_contrato\"].value_counts(normalize=True).map(\"{:.1%}\".format))\n",
    "display(tabela.groupby(\"duracao_contrato\").count())\n",
    "# display(tabela.groupby(\"duracao_contrato\").mean())\n",
    "# display(tabela.groupby(\"assinatura\").mean())"
   ]
  },
  {
   "cell_type": "code",
   "execution_count": null,
   "metadata": {},
   "outputs": [],
   "source": [
    "import plotly.express as px\n",
    "# for column in tabela.columns:\n",
    "#   graphic = px.histogram(tabela, x=column,color=\"cancelou\")\n",
    "#   graphic.show()\n",
    "\n",
    "# 4.1. Main reasons for cancellations\n",
    "# a. 100% of monthly contract customers cancelled the subscription\n",
    "graphic = px.histogram(tabela, x=\"duracao_contrato\",color=\"cancelou\")\n",
    "graphic.show()\n",
    "\n",
    "# b. 100% of the customers with 50+ cancelled the subscription\n",
    "graphic = px.histogram(tabela, x=\"idade\",color=\"cancelou\")\n",
    "graphic.show()\n",
    "\n",
    "# c. 100% of the customers that called more than 5x, cancelled the subscription\n",
    "graphic = px.histogram(tabela, x=\"ligacoes_callcenter\",color=\"cancelou\")\n",
    "graphic.show()\n",
    "\n",
    "# d. 100% of the customers who are overdue for more than 20 days cancelled their subscription\n",
    "graphic = px.histogram(tabela, x=\"dias_atraso\",color=\"cancelou\")\n",
    "graphic.show()"
   ]
  },
  {
   "cell_type": "code",
   "execution_count": 57,
   "metadata": {},
   "outputs": [
    {
     "data": {
      "text/plain": [
       "cancelou\n",
       "1.0    56.7%\n",
       "0.0    43.3%\n",
       "Name: proportion, dtype: object"
      ]
     },
     "metadata": {},
     "output_type": "display_data"
    },
    {
     "data": {
      "text/plain": [
       "cancelou\n",
       "0.0    53.9%\n",
       "1.0    46.1%\n",
       "Name: proportion, dtype: object"
      ]
     },
     "metadata": {},
     "output_type": "display_data"
    },
    {
     "data": {
      "text/plain": [
       "cancelou\n",
       "0.0    63.3%\n",
       "1.0    36.7%\n",
       "Name: proportion, dtype: object"
      ]
     },
     "metadata": {},
     "output_type": "display_data"
    },
    {
     "data": {
      "text/plain": [
       "cancelou\n",
       "0.0    81.2%\n",
       "1.0    18.8%\n",
       "Name: proportion, dtype: object"
      ]
     },
     "metadata": {},
     "output_type": "display_data"
    },
    {
     "data": {
      "text/plain": [
       "cancelou\n",
       "0.0    87.8%\n",
       "1.0    12.2%\n",
       "Name: proportion, dtype: object"
      ]
     },
     "metadata": {},
     "output_type": "display_data"
    }
   ],
   "source": [
    "# Step 5 - Proposed solutions\n",
    "display(tabela[\"cancelou\"].value_counts(normalize=True).map(\"{:.1%}\".format))\n",
    "\n",
    "# a. Excluding monthly subscriptions, cancellations drop from 56% to 46% \n",
    "# Exclude monthly payment or deesconto para \n",
    "tabela = tabela[tabela[\"duracao_contrato\"]!=\"Monthly\"]\n",
    "display(tabela[\"cancelou\"].value_counts(normalize=True).map(\"{:.1%}\".format))\n",
    "\n",
    "# b. acompanhamento dos clientes com mais de 50 anos, \n",
    "# entender quais os problemas que mais levam ao cancelamento\n",
    "tabela = tabela[tabela[\"idade\"]<50]\n",
    "display(tabela[\"cancelou\"].value_counts(normalize=True).map(\"{:.1%}\".format))\n",
    "\n",
    "# c. acomapanhamento dos clientes que estao ligando para o callcenter\n",
    "# recuperar clientes, impedindo que ele ligue mais de 5x, \n",
    "# melhorar equipe de atuação nos problemas do call center\n",
    "tabela = tabela[tabela[\"ligacoes_callcenter\"]<5]\n",
    "display(tabela[\"cancelou\"].value_counts(normalize=True).map(\"{:.1%}\".format))\n",
    "\n",
    "# d. acompanhamento para os clientes nunca passarem os 20 dias atraso, \n",
    "# forma de pagamento facilitada, contato com eles\n",
    "tabela = tabela[tabela[\"dias_atraso\"]<=20]\n",
    "display(tabela[\"cancelou\"].value_counts(normalize=True).map(\"{:.1%}\".format))\n",
    "\n",
    "#a"
   ]
  },
  {
   "cell_type": "code",
   "execution_count": null,
   "metadata": {},
   "outputs": [],
   "source": [
    "# Após todas essas mudanças, o % de cancelamento cai de 56 para 12"
   ]
  }
 ],
 "metadata": {
  "kernelspec": {
   "display_name": "base",
   "language": "python",
   "name": "python3"
  },
  "language_info": {
   "codemirror_mode": {
    "name": "ipython",
    "version": 3
   },
   "file_extension": ".py",
   "mimetype": "text/x-python",
   "name": "python",
   "nbconvert_exporter": "python",
   "pygments_lexer": "ipython3",
   "version": "3.9.6"
  },
  "orig_nbformat": 4
 },
 "nbformat": 4,
 "nbformat_minor": 2
}
